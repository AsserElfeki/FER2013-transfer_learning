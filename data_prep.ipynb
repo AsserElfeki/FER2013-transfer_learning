{
 "cells": [
  {
   "cell_type": "code",
   "execution_count": 22,
   "id": "f6176ee1",
   "metadata": {},
   "outputs": [
    {
     "data": {
      "text/plain": [
       "<contextlib.ExitStack at 0x7f87a4ee3f40>"
      ]
     },
     "execution_count": 22,
     "metadata": {},
     "output_type": "execute_result"
    }
   ],
   "source": [
    "import os\n",
    "import torch\n",
    "from PIL import Image\n",
    "import pandas as pd\n",
    "from torch.utils.data import Dataset, DataLoader\n",
    "from torchvision import transforms, utils\n",
    "import numpy as np\n",
    "from skimage import io, transform\n",
    "import matplotlib.pyplot as plt\n",
    "\n",
    "plt.ion()"
   ]
  },
  {
   "cell_type": "code",
   "execution_count": 9,
   "id": "cbe04620",
   "metadata": {},
   "outputs": [],
   "source": [
    "train_folder_path = './FERPlus/data/FER2013Train'\n",
    "test_folder_path = './FERPlus/data/FER2013Test'\n",
    "public_test_folder_path = '/FERPlus/data/FER2013Valid'"
   ]
  },
  {
   "cell_type": "code",
   "execution_count": 19,
   "id": "3d8c1799-178e-400a-b147-0638c2f2c801",
   "metadata": {
    "tags": []
   },
   "outputs": [],
   "source": [
    "class FERPlusDataset(Dataset):\n",
    "    \"\"\"FERPlus dataset.\"\"\"\n",
    "    \n",
    "    def __init__(self, csv_file, root_dir, transform=None):\n",
    "        \"\"\"\n",
    "        Arguments:\n",
    "            csv_file (string): Path to the csv file with annotations.\n",
    "            root_dir (string): Directory with all the images.\n",
    "            transform (callable, optional): Optional transform to be applied\n",
    "                on a sample.\n",
    "        \"\"\"\n",
    "        self.img_frame = pd.read_csv(csv_file)\n",
    "        self.root_dir = root_dir\n",
    "        self.transform = transform\n",
    "\n",
    "    def __len__(self):\n",
    "        return len(self.img_frame)\n",
    "\n",
    "    def __getitem__(self, idx):\n",
    "        if torch.is_tensor(idx):\n",
    "            idx = idx.tolist()\n",
    "\n",
    "        img_name = os.path.join(self.root_dir,\n",
    "                                self.img_frame.iloc[idx, 0])\n",
    "        image = io.imread(img_name, as_gray=False)\n",
    "        #dimensions = self.img_frameiloc[n, 1]\n",
    "        emotions = self.img_frame.iloc[idx, 2:]\n",
    "        emotions = np.asarray(emotions)\n",
    "        emotions = emotions.astype('int')\n",
    "        sample = {'image': image, 'emotions': emotions}\n",
    "\n",
    "        if self.transform:\n",
    "            sample = self.transform(sample)\n",
    "\n",
    "        return sample\n",
    "    \n",
    "    \n",
    "class ToTensor(object):\n",
    "    \"\"\"Convert ndarrays in sample to Tensors.\"\"\"\n",
    "\n",
    "    def __call__(self, sample):\n",
    "        image, emotions = sample['image'], sample['emotions']\n",
    "        transform = transforms.ToTensor()\n",
    "        # swap color axis because\n",
    "        # numpy image: H x W x C\n",
    "        # torch image: C x H x W\n",
    "        #image = image.transpose(1,0)\n",
    "        return {'image': transform(image),\n",
    "                'emotions': emotions}"
   ]
  },
  {
   "cell_type": "code",
   "execution_count": 26,
   "id": "794873de-0f5b-41a4-8314-e73ce093e3ca",
   "metadata": {
    "tags": []
   },
   "outputs": [
    {
     "name": "stdout",
     "output_type": "stream",
     "text": [
      "{'image': tensor([[[0.5922, 0.5882, 0.5765,  ..., 0.5059, 0.5490, 0.4706],\n",
      "         [0.5922, 0.5843, 0.5843,  ..., 0.4784, 0.5529, 0.5373],\n",
      "         [0.5922, 0.5922, 0.6118,  ..., 0.4275, 0.4824, 0.5725],\n",
      "         ...,\n",
      "         [0.7373, 0.7373, 0.4745,  ..., 0.7255, 0.7255, 0.7294],\n",
      "         [0.7373, 0.7333, 0.7686,  ..., 0.7294, 0.7137, 0.7333],\n",
      "         [0.7294, 0.7216, 0.7255,  ..., 0.7569, 0.7176, 0.7216]]]), 'emotions': array([6, 0, 1, 1, 0, 0, 0, 0, 2, 0])}\n",
      "torch.Size([1, 48, 48])\n"
     ]
    },
    {
     "data": {
      "image/png": "[encoded data removed]",
      "text/plain": [
       "<Figure size 640x480 with 1 Axes>"
      ]
     },
     "metadata": {},
     "output_type": "display_data"
    }
   ],
   "source": [
    "batch_size = 10 #how many units in each insert in the pipeline\n",
    "\n",
    "face_dataset = FERPlusDataset(os.path.join(train_folder_path,\"label.csv\"), train_folder_path, transform=ToTensor())\n",
    "\n",
    "print(face_dataset[0])\n",
    "print(face_dataset[0]['image'].shape)\n",
    "\n",
    "np_img = face_dataset[0]['image']\n",
    "plt.imshow(np.transpose(np_img,(1,2,0)))\n",
    "trainloader = torch.utils.data.DataLoader(face_dataset, batch_size=batch_size,\n",
    "                                        shuffle=True, num_workers=0)"
   ]
  },
  {
   "cell_type": "code",
   "execution_count": 27,
   "id": "61f39aca-410d-4b30-b389-d2cdcc8d9170",
   "metadata": {
    "tags": []
   },
   "outputs": [
    {
     "name": "stdout",
     "output_type": "stream",
     "text": [
      "0 torch.Size([10, 1, 48, 48]) torch.Size([10, 10])\n",
      "1 torch.Size([10, 1, 48, 48]) torch.Size([10, 10])\n",
      "2 torch.Size([10, 1, 48, 48]) torch.Size([10, 10])\n",
      "3 torch.Size([10, 1, 48, 48]) torch.Size([10, 10])\n",
      "{'image': tensor([[[[0.6078, 0.7098, 0.7529,  ..., 0.4000, 0.7294, 0.9922],\n",
      "          [0.6431, 0.7176, 0.7451,  ..., 0.3059, 0.7961, 0.9529],\n",
      "          [0.6431, 0.7137, 0.7451,  ..., 0.1804, 0.7216, 0.9961],\n",
      "          ...,\n",
      "          [0.1686, 0.1569, 0.1255,  ..., 0.3020, 0.0863, 0.0784],\n",
      "          [0.1373, 0.1451, 0.1137,  ..., 0.1922, 0.0588, 0.0941],\n",
      "          [0.1294, 0.1333, 0.1098,  ..., 0.0980, 0.0824, 0.0863]]],\n",
      "\n",
      "\n",
      "        [[[0.2745, 0.2824, 0.2157,  ..., 0.2471, 0.2275, 0.2157],\n",
      "          [0.2824, 0.2706, 0.1922,  ..., 0.2863, 0.2510, 0.2196],\n",
      "          [0.3059, 0.2314, 0.2118,  ..., 0.3020, 0.2627, 0.2471],\n",
      "          ...,\n",
      "          [0.2667, 0.2431, 0.1529,  ..., 0.1176, 0.1137, 0.0941],\n",
      "          [0.2667, 0.2431, 0.1686,  ..., 0.1255, 0.1216, 0.1294],\n",
      "          [0.2745, 0.2510, 0.1647,  ..., 0.1294, 0.1255, 0.1412]]],\n",
      "\n",
      "\n",
      "        [[[0.0824, 0.1373, 0.1961,  ..., 0.2706, 0.3176, 0.3765],\n",
      "          [0.1216, 0.1412, 0.2157,  ..., 0.2392, 0.2706, 0.3686],\n",
      "          [0.1569, 0.1451, 0.2588,  ..., 0.1843, 0.2471, 0.2824],\n",
      "          ...,\n",
      "          [0.2667, 0.2824, 0.2980,  ..., 0.6588, 0.6471, 0.6863],\n",
      "          [0.2824, 0.3059, 0.2980,  ..., 0.7333, 0.7294, 0.7529],\n",
      "          [0.2627, 0.3098, 0.3098,  ..., 0.7608, 0.7569, 0.7529]]],\n",
      "\n",
      "\n",
      "        ...,\n",
      "\n",
      "\n",
      "        [[[0.6588, 0.7922, 0.8196,  ..., 0.0510, 0.0157, 0.0039],\n",
      "          [0.6000, 0.7020, 0.7373,  ..., 0.0745, 0.0510, 0.0118],\n",
      "          [0.6118, 0.6549, 0.6510,  ..., 0.1059, 0.0824, 0.0314],\n",
      "          ...,\n",
      "          [0.3608, 0.4353, 0.5137,  ..., 0.5020, 0.4863, 0.5098],\n",
      "          [0.3451, 0.4235, 0.5059,  ..., 0.4392, 0.4353, 0.4471],\n",
      "          [0.3294, 0.4235, 0.4941,  ..., 0.4235, 0.4196, 0.4314]]],\n",
      "\n",
      "\n",
      "        [[[0.0235, 0.0196, 0.0353,  ..., 0.2431, 0.2353, 0.2627],\n",
      "          [0.0118, 0.0431, 0.0588,  ..., 0.2471, 0.2588, 0.2784],\n",
      "          [0.0235, 0.0157, 0.0549,  ..., 0.2549, 0.2784, 0.3020],\n",
      "          ...,\n",
      "          [0.4000, 0.4667, 0.6980,  ..., 0.5373, 0.5608, 0.5490],\n",
      "          [0.4078, 0.4667, 0.6549,  ..., 0.5412, 0.5451, 0.5451],\n",
      "          [0.4118, 0.4000, 0.6196,  ..., 0.5412, 0.5412, 0.5451]]],\n",
      "\n",
      "\n",
      "        [[[0.4706, 0.3686, 0.2510,  ..., 0.4863, 0.4784, 0.4902],\n",
      "          [0.4588, 0.3490, 0.3020,  ..., 0.4784, 0.4902, 0.4902],\n",
      "          [0.4392, 0.3490, 0.2941,  ..., 0.4824, 0.4784, 0.4863],\n",
      "          ...,\n",
      "          [0.3765, 0.3725, 0.3569,  ..., 0.3961, 0.3961, 0.4039],\n",
      "          [0.3804, 0.3804, 0.3725,  ..., 0.4000, 0.4000, 0.4039],\n",
      "          [0.3882, 0.3804, 0.3686,  ..., 0.4039, 0.4000, 0.3961]]]]), 'emotions': tensor([[ 2,  0,  1,  2,  0,  1,  0,  2,  2,  0],\n",
      "        [ 0, 10,  0,  0,  0,  0,  0,  0,  0,  0],\n",
      "        [ 8,  0,  0,  1,  0,  0,  0,  0,  0,  1],\n",
      "        [ 1,  9,  0,  0,  0,  0,  0,  0,  0,  0],\n",
      "        [ 8,  0,  0,  0,  0,  0,  0,  2,  0,  0],\n",
      "        [ 0,  0,  0, 10,  0,  0,  0,  0,  0,  0],\n",
      "        [ 0,  0,  9,  0,  0,  0,  1,  0,  0,  0],\n",
      "        [ 6,  2,  0,  1,  0,  0,  0,  0,  1,  0],\n",
      "        [ 7,  0,  0,  2,  0,  0,  0,  0,  1,  0],\n",
      "        [ 8,  0,  0,  1,  1,  0,  0,  0,  0,  0]])}\n"
     ]
    }
   ],
   "source": [
    "for i_batch, sample_batched in enumerate(trainloader):\n",
    "    print(i_batch, sample_batched['image'].size(),\n",
    "          sample_batched['emotions'].size())\n",
    "\n",
    "    # observe 4th batch and stop.\n",
    "    if i_batch == 3:\n",
    "        print(sample_batched)\n",
    "        break"
   ]
  },
  {
   "cell_type": "code",
   "execution_count": null,
   "id": "1536c39d-bb61-4f46-9ff2-e9c15dcfaa7f",
   "metadata": {},
   "outputs": [],
   "source": []
  }
 ],
 "metadata": {
  "kernelspec": {
   "display_name": "Python 3 (ipykernel)",
   "language": "python",
   "name": "python3"
  },
  "language_info": {
   "codemirror_mode": {
    "name": "ipython",
    "version": 3
   },
   "file_extension": ".py",
   "mimetype": "text/x-python",
   "name": "python",
   "nbconvert_exporter": "python",
   "pygments_lexer": "ipython3",
   "version": "3.10.6"
  }
 },
 "nbformat": 4,
 "nbformat_minor": 5
}
