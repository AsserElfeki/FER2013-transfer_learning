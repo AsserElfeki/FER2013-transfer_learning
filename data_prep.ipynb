{
 "cells": [
  {
   "cell_type": "code",
   "execution_count": 1,
   "id": "f6176ee1",
   "metadata": {},
   "outputs": [
    {
     "data": {
      "text/plain": [
       "<contextlib.ExitStack at 0x105a302b0>"
      ]
     },
     "execution_count": 1,
     "metadata": {},
     "output_type": "execute_result"
    }
   ],
   "source": [
    "import os\n",
    "import torch\n",
    "from PIL import Image\n",
    "import pandas as pd\n",
    "from torch.utils.data import Dataset, DataLoader\n",
    "from torchvision import transforms, utils\n",
    "import numpy as np\n",
    "from skimage import io, transform\n",
    "import matplotlib.pyplot as plt\n",
    "import time\n",
    "plt.ion()"
   ]
  },
  {
   "cell_type": "code",
   "execution_count": 2,
   "id": "505bc511",
   "metadata": {},
   "outputs": [
    {
     "name": "stdout",
     "output_type": "stream",
     "text": [
      "MPS found\n"
     ]
    }
   ],
   "source": [
    "if not torch.backends.mps.is_available():\n",
    "    if not torch.backends.mps.is_built():\n",
    "        print(\"MPS not available because the current PyTorch install was not \"\n",
    "              \"built with MPS enabled.\")\n",
    "    else:\n",
    "        print(\"MPS not available because the current MacOS version is not 12.3+ \"\n",
    "              \"and/or you do not have an MPS-enabled device on this machine.\")\n",
    "\n",
    "else:\n",
    "    print(\"MPS found\")\n",
    "    device = torch.device(\"mps\")"
   ]
  },
  {
   "cell_type": "code",
   "execution_count": 3,
   "id": "cbe04620",
   "metadata": {},
   "outputs": [],
   "source": [
    "train_folder_path = './data/FER2013Train'\n",
    "test_folder_path = './data/FER2013Test'\n",
    "public_test_folder_path = '/data/FER2013Valid'"
   ]
  },
  {
   "cell_type": "code",
   "execution_count": 4,
   "id": "3d8c1799-178e-400a-b147-0638c2f2c801",
   "metadata": {
    "tags": []
   },
   "outputs": [],
   "source": [
    "class FERPlusDataset(Dataset):\n",
    "    \"\"\"FERPlus dataset.\"\"\"\n",
    "    \n",
    "    def __init__(self, csv_file, root_dir, transform=None):\n",
    "        \"\"\"\n",
    "        Arguments:\n",
    "            csv_file (string): Path to the csv file with annotations.\n",
    "            root_dir (string): Directory with all the images.\n",
    "            transform (callable, optional): Optional transform to be applied\n",
    "                on a sample.\n",
    "        \"\"\"\n",
    "        self.img_frame = pd.read_csv(csv_file)\n",
    "        self.root_dir = root_dir\n",
    "        self.transform = transform\n",
    "\n",
    "    def __len__(self):\n",
    "        return len(self.img_frame)\n",
    "\n",
    "#     to access elements using the [] \n",
    "    def __getitem__(self, idx):\n",
    "        if torch.is_tensor(idx):\n",
    "            idx = idx.tolist()\n",
    "\n",
    "#             to make the image name \n",
    "        img_name = os.path.join(self.root_dir,\n",
    "                                self.img_frame.iloc[idx, 0])\n",
    "    \n",
    "        image = io.imread(img_name)\n",
    "        #dimensions = self.img_frameiloc[n, 1]\n",
    "        emotions = self.img_frame.iloc[idx, 2:]\n",
    "#         print(\"emo1: \", emotions)\n",
    "        emotions = np.asarray(emotions)\n",
    "#         print(\"emo2: \", emotions)\n",
    "        \n",
    "        emotions = emotions.astype('float32')\n",
    "#         print(\"emo3: \", emotions)\n",
    "        \n",
    "        sample = {'image': image, 'emotions': emotions}\n",
    "#         print(\"sample: \", sample)\n",
    "        if self.transform:\n",
    "            sample = self.transform(sample)\n",
    "\n",
    "        return sample\n",
    "    \n",
    "\n",
    "#     class to transform to tensor\n",
    "class ToTensor(object):\n",
    "    \"\"\"Convert ndarrays in sample to Tensors.\"\"\"\n",
    "\n",
    "    def __call__(self, sample):\n",
    "        image, emotions = sample['image'], sample['emotions']\n",
    "        transform = transforms.ToTensor()\n",
    "        # swap color axis because\n",
    "        # numpy image: H x W x C\n",
    "        # torch image: C x H x W\n",
    "        #image = image.transpose(1,0)\n",
    "        return {'image': transform(image),\n",
    "                'emotions': emotions}"
   ]
  },
  {
   "cell_type": "code",
   "execution_count": 5,
   "id": "794873de-0f5b-41a4-8314-e73ce093e3ca",
   "metadata": {
    "tags": []
   },
   "outputs": [
    {
     "data": {
      "image/png": "[encoded data removed]",
      "text/plain": [
       "<Figure size 640x480 with 1 Axes>"
      ]
     },
     "metadata": {},
     "output_type": "display_data"
    }
   ],
   "source": [
    "batch_size = 10 #how many units in each insert in the pipeline\n",
    "\n",
    "face_dataset = FERPlusDataset(os.path.join(train_folder_path,\"label.csv\"), train_folder_path, transform=ToTensor())\n",
    "\n",
    "# print(face_dataset[0])\n",
    "# print(face_dataset[0]['image'].shape)\n",
    "\n",
    "np_img = face_dataset[5]['image']\n",
    "plt.imshow(np.transpose(np_img,(1,2,0)))\n",
    "trainloader = torch.utils.data.DataLoader(face_dataset, batch_size=batch_size,\n",
    "                                        shuffle=True, num_workers=0)\n",
    "\n"
   ]
  },
  {
   "cell_type": "code",
   "execution_count": 6,
   "id": "61f39aca-410d-4b30-b389-d2cdcc8d9170",
   "metadata": {
    "tags": []
   },
   "outputs": [],
   "source": [
    "# JUST FOR DEBUGGING \n",
    "\n",
    "# for i_batch, sample_batched in enumerate(trainloader):\n",
    "#     print(i_batch, sample_batched['image'].size(),\n",
    "#           sample_batched['emotions'].size())\n",
    "\n",
    "#     # observe 4th batch and stop.\n",
    "#     if i_batch == 3:\n",
    "#         print(sample_batched)\n",
    "#         break"
   ]
  },
  {
   "cell_type": "code",
   "execution_count": 7,
   "id": "1536c39d-bb61-4f46-9ff2-e9c15dcfaa7f",
   "metadata": {},
   "outputs": [
    {
     "name": "stdout",
     "output_type": "stream",
     "text": [
      "Net(\n",
      "  (conv1): Conv2d(1, 6, kernel_size=(5, 5), stride=(1, 1))\n",
      "  (pool): MaxPool2d(kernel_size=2, stride=2, padding=0, dilation=1, ceil_mode=False)\n",
      "  (conv2): Conv2d(6, 16, kernel_size=(5, 5), stride=(1, 1))\n",
      "  (fc1): Linear(in_features=1296, out_features=120, bias=True)\n",
      "  (fc2): Linear(in_features=120, out_features=84, bias=True)\n",
      "  (fc3): Linear(in_features=84, out_features=10, bias=True)\n",
      ")\n"
     ]
    }
   ],
   "source": [
    "import torch.nn as nn\n",
    "import torch.nn.functional as F\n",
    "\n",
    "\n",
    "class Net(nn.Module):\n",
    "    def __init__(self):\n",
    "        super().__init__()\n",
    "        self.conv1 = nn.Conv2d(1, 6, 5) \n",
    "    # output size = 6 *44*44 values \n",
    "    # image size : n*n \n",
    "    # filter size: f*f (f is odd number)\n",
    "    # shrinked_image size : (n - f + 1)^2 \n",
    "\n",
    "        self.pool = nn.MaxPool2d(2, 2) \n",
    "    # default stride is 2 because it was not specified so defaults to kernel size which is 2\n",
    "    # output size = ((n-f+1)/2)^2 = 22*22 *6  \n",
    "        \n",
    "        self.conv2 = nn.Conv2d(6, 16, 5)\n",
    "     #output size = 18 * 18 * 16 = 5184   \n",
    "        \n",
    "        self.fc1 = nn.Linear(16 * 9 * 9, 120)\n",
    "        self.fc2 = nn.Linear(120, 84)\n",
    "        self.fc3 = nn.Linear(84, 10)\n",
    "\n",
    "    def forward(self, x):\n",
    "        x = self.pool(F.relu(self.conv1(x))) \n",
    "        # 44*44*6 , 22*22*6 \n",
    "        \n",
    "        x = self.pool(F.relu(self.conv2(x)))\n",
    "        # 18*18*16 , 9*9*16 \n",
    "        \n",
    "        x = torch.flatten(x, 1) # flatten all dimensions except batch\n",
    "        x = F.relu(self.fc1(x))\n",
    "        x = F.relu(self.fc2(x))\n",
    "        x = self.fc3(x)\n",
    "        return x\n",
    "\n",
    "\n",
    "net = Net()\n",
    "# net.to(device)\n",
    "print(net)"
   ]
  },
  {
   "cell_type": "code",
   "execution_count": 8,
   "id": "0dd58b54",
   "metadata": {},
   "outputs": [],
   "source": [
    "import torch.optim as optim\n",
    "\n",
    "criterion = nn.CrossEntropyLoss()\n",
    "optimizer = optim.SGD(net.parameters(), lr=0.001, momentum=0.9)"
   ]
  },
  {
   "cell_type": "code",
   "execution_count": null,
   "id": "407199b4",
   "metadata": {},
   "outputs": [
    {
     "name": "stdout",
     "output_type": "stream",
     "text": [
      "[1,  2000] loss: 18.060\n",
      "[2,  2000] loss: 15.212\n",
      "[3,  2000] loss: 13.839\n",
      "[4,  2000] loss: 13.031\n",
      "[5,  2000] loss: 12.367\n",
      "[6,  2000] loss: 11.793\n",
      "[7,  2000] loss: 11.289\n",
      "[8,  2000] loss: 10.897\n",
      "[9,  2000] loss: 10.508\n",
      "[10,  2000] loss: 10.223\n",
      "[11,  2000] loss: 9.874\n",
      "[12,  2000] loss: 9.685\n",
      "[13,  2000] loss: 9.478\n",
      "[14,  2000] loss: 9.270\n",
      "[15,  2000] loss: 9.124\n",
      "[16,  2000] loss: 8.993\n",
      "[17,  2000] loss: 8.880\n",
      "[18,  2000] loss: 8.806\n",
      "[19,  2000] loss: 8.735\n",
      "[20,  2000] loss: 8.605\n",
      "[21,  2000] loss: 8.587\n",
      "[22,  2000] loss: 8.453\n",
      "[23,  2000] loss: 8.451\n",
      "[24,  2000] loss: 8.420\n",
      "[25,  2000] loss: 8.363\n",
      "[26,  2000] loss: 8.331\n",
      "[27,  2000] loss: 8.239\n",
      "[28,  2000] loss: 8.187\n",
      "[29,  2000] loss: 8.178\n",
      "[30,  2000] loss: 8.126\n",
      "[31,  2000] loss: 8.130\n",
      "[32,  2000] loss: 8.077\n",
      "[33,  2000] loss: 8.030\n",
      "[34,  2000] loss: 7.965\n",
      "[35,  2000] loss: 7.962\n",
      "[36,  2000] loss: 7.950\n",
      "[37,  2000] loss: 7.919\n",
      "[38,  2000] loss: 7.936\n",
      "[39,  2000] loss: 7.835\n",
      "[40,  2000] loss: 7.867\n"
     ]
    }
   ],
   "source": [
    "st = time.time()\n",
    "for epoch in range(50):  # loop over the dataset multiple times\n",
    "\n",
    "    running_loss = 0.0\n",
    "    for i, data in enumerate(trainloader, 0):\n",
    "        # get the inputs; data is a list of [inputs, labels]\n",
    "        labels = data['emotions']\n",
    "        inputs = data['image']\n",
    "#         print(data)\n",
    "#         inputs, labels = data['image'].to(device), data['emotions'].to(device)\n",
    "#         print(\"labels:\", labels, labels.shape)\n",
    "#         print(\"images:\", inputs.shape)\n",
    "        \n",
    "        # zero the parameter gradients\n",
    "        optimizer.zero_grad()\n",
    "\n",
    "        # forward + backward + optimize\n",
    "        outputs = net(inputs)\n",
    "        \n",
    "#         print (\"outputs shape: \" , outputs.shape, outputs)\n",
    "#         print (\"labels shape: \", labels.shape)\n",
    "        \n",
    "        loss = criterion(outputs, labels)\n",
    "        loss.backward()\n",
    "        optimizer.step()\n",
    "#         if i == 5:\n",
    "#             print(\"5th iter: \")\n",
    "#             print(data)\n",
    "#             print(\"labels:\", labels, labels.shape)\n",
    "#             print(\"images:\", inputs.shape)\n",
    "#             print (\"outputs shape: \" , outputs.shape, outputs)\n",
    "#             print (\"labels shape: \", labels.shape)\n",
    "#             print(\"===================================\")\n",
    "            \n",
    "            \n",
    "        # print statistics\n",
    "        running_loss += loss.item()\n",
    "        if i % 2000 == 1999:    # print every 2000 mini-batches\n",
    "            print(f'[{epoch + 1}, {i + 1:5d}] loss: {running_loss / 2000:.3f}')\n",
    "            running_loss = 0.0\n",
    "elapsed_time = time.time() - st\n",
    "print('Execution time:', time.strftime(\"%H:%M:%S\", time.gmtime(elapsed_time)))\n",
    "print('Finished Training')"
   ]
  },
  {
   "cell_type": "code",
   "execution_count": null,
   "id": "1ea8b208",
   "metadata": {},
   "outputs": [],
   "source": [
    "test_dataset = FERPlusDataset(os.path.join(test_folder_path,\"label.csv\"), test_folder_path, transform=ToTensor())\n",
    "testloader = torch.utils.data.DataLoader(test_dataset, batch_size=batch_size,\n",
    "                                        shuffle=True, num_workers=0)"
   ]
  },
  {
   "cell_type": "code",
   "execution_count": null,
   "id": "fe0ff79f",
   "metadata": {},
   "outputs": [],
   "source": [
    "correct = 0\n",
    "total = 0\n",
    "# since we're not training, we don't need to calculate the gradients for our outputs\n",
    "with torch.no_grad():\n",
    "    for data in testloader:\n",
    "        labels = data['emotions']\n",
    "#         print(\"labels Shape: \", labels.shape)\n",
    "#         print(\"labels: \", labels)\n",
    "        images = data['image']\n",
    "        # calculate outputs by running images through the network\n",
    "        outputs = net(images)\n",
    "#         print(\"output shape: \", outputs.shape)\n",
    "#         print(\"output nafso: \", outputs)\n",
    "        # the class with the highest energy is what we choose as prediction\n",
    "    \n",
    "        _, labels = torch.max(labels, 1)\n",
    "#         print(\"labels after max: \", labels)\n",
    "        \n",
    "#         print (type(labels) , \" \" , labels)    \n",
    "        _, predicted = torch.max(outputs.data, 1)\n",
    "        total += labels.size(0)\n",
    "#         print(labels.size(0))\n",
    "#         print(\"prediction shape: \", predicted.shape , \"label shape: \" , labels.shape)\n",
    "        correct += (predicted == labels).sum().item()\n",
    "\n",
    "print(f'Accuracy of the network on the 10000 test images: {100 * correct // total} %')\n",
    "\n",
    "print(\"I am fuckin awesome... not realy, but yeah\")"
   ]
  },
  {
   "cell_type": "code",
   "execution_count": null,
   "id": "0d904c39",
   "metadata": {},
   "outputs": [],
   "source": [
    "\"\"\"\n",
    "optimizer, loss function, activation function, arch. \n",
    "\"\"\"\n"
   ]
  }
 ],
 "metadata": {
  "kernelspec": {
   "display_name": "Python 3 (ipykernel)",
   "language": "python",
   "name": "python3"
  },
  "language_info": {
   "codemirror_mode": {
    "name": "ipython",
    "version": 3
   },
   "file_extension": ".py",
   "mimetype": "text/x-python",
   "name": "python",
   "nbconvert_exporter": "python",
   "pygments_lexer": "ipython3",
   "version": "3.8.16"
  }
 },
 "nbformat": 4,
 "nbformat_minor": 5
}
