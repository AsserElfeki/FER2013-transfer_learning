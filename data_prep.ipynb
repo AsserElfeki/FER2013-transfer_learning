{
 "cells": [
  {
   "cell_type": "code",
   "execution_count": 1,
   "id": "f6176ee1",
   "metadata": {},
   "outputs": [
    {
     "data": {
      "text/plain": [
       "<Figure size 640x480 with 0 Axes>"
      ]
     },
     "metadata": {},
     "output_type": "display_data"
    }
   ],
   "source": [
    "\n",
    "import os\n",
    "import torch\n",
    "from PIL import Image\n",
    "import pandas as pd\n",
    "from torch.utils.data import Dataset, DataLoader\n",
    "from torchvision import transforms, utils\n",
    "import numpy as np\n",
    "from skimage import io, transform\n",
    "import matplotlib.pyplot as plt\n",
    "import time\n",
    "import torch.optim as optim\n",
    "import torch.nn.functional as F\n",
    "import torch.nn as nn\n",
    "\n",
    "plt.ion() \n",
    "plt.gray()"
   ]
  },
  {
   "cell_type": "markdown",
   "metadata": {},
   "source": [
    "**Parameters**"
   ]
  },
  {
   "cell_type": "code",
   "execution_count": 2,
   "id": "bfff8ed6",
   "metadata": {},
   "outputs": [],
   "source": [
    "epochs = 20\n",
    "batch_size = 6 #how many units in each insert in the pipeline"
   ]
  },
  {
   "cell_type": "code",
   "execution_count": 3,
   "id": "d22df4ed",
   "metadata": {},
   "outputs": [
    {
     "name": "stdout",
     "output_type": "stream",
     "text": [
      "MPS found\n"
     ]
    }
   ],
   "source": [
    "# %%time\n",
    "if not torch.backends.mps.is_available():\n",
    "    if not torch.backends.mps.is_built():\n",
    "        print(\"MPS not available because the current PyTorch install was not \"\n",
    "              \"built with MPS enabled.\")\n",
    "    else:\n",
    "        print(\"MPS not available because the current MacOS version is not 12.3+ \"\n",
    "              \"and/or you do not have an MPS-enabled device on this machine.\")\n",
    "\n",
    "else:\n",
    "    print(\"MPS found\")\n",
    "    device = torch.device(\"mps\")"
   ]
  },
  {
   "cell_type": "code",
   "execution_count": 4,
   "id": "cbe04620",
   "metadata": {},
   "outputs": [],
   "source": [
    "train_folder_path = './data/FER2013Train'\n",
    "test_folder_path = './data/FER2013Test'\n",
    "valid_folder_path = './data/FER2013Valid'"
   ]
  },
  {
   "cell_type": "code",
   "execution_count": 5,
   "id": "3d8c1799-178e-400a-b147-0638c2f2c801",
   "metadata": {
    "tags": []
   },
   "outputs": [],
   "source": [
    "class FERPlusDataset(Dataset):\n",
    "    \"\"\"FERPlus dataset.\"\"\"\n",
    "\n",
    "    def __init__(self, csv_file, root_dir, transform=None):\n",
    "        \"\"\"\n",
    "        Arguments:\n",
    "            csv_file (string): Path to the csv file with annotations.\n",
    "            root_dir (string): Directory with all the images.\n",
    "            transform (callable, optional): Optional transform to be applied\n",
    "                on a sample.\n",
    "        \"\"\"\n",
    "        self.img_frame = pd.read_csv(csv_file)\n",
    "        self.root_dir = root_dir\n",
    "        self.transform = transform\n",
    "\n",
    "    def __len__(self):\n",
    "        return len(self.img_frame)\n",
    "\n",
    "#     to access elements using the []\n",
    "    def __getitem__(self, idx):\n",
    "        if torch.is_tensor(idx):\n",
    "            idx = idx.tolist()\n",
    "\n",
    "#   to create the image name\n",
    "        img_name = os.path.join(self.root_dir, self.img_frame.iloc[idx, 0])\n",
    "\n",
    "        image = io.imread(img_name)\n",
    "        emotions = self.img_frame.iloc[idx, 2:]\n",
    "        emotions = np.asarray(emotions)\n",
    "        emotions = emotions.astype('float32')\n",
    "\n",
    "        sample = {'image': image, 'emotions': emotions} # a dictionary of an image with its label\n",
    "        if self.transform:\n",
    "            sample = self.transform(sample)\n",
    "\n",
    "        return sample #return a transformed image with label\n",
    "\n",
    "\n",
    "\n"
   ]
  },
  {
   "cell_type": "code",
   "execution_count": 6,
   "id": "82970810",
   "metadata": {},
   "outputs": [],
   "source": [
    "#     class to transform to a normalized tensor (only the image pixel value is transformed)\n",
    "class ToTensor(object):\n",
    "    \"\"\"Convert ndarrays in sample to Tensors.\"\"\"\n",
    "\n",
    "    def __call__(self, sample):\n",
    "        image, emotions = sample['image'], sample['emotions']\n",
    "        transform = transforms.ToTensor()\n",
    "\n",
    "        return {'image': transform(image),\n",
    "                'emotions': emotions}\n"
   ]
  },
  {
   "cell_type": "code",
   "execution_count": 7,
   "id": "794873de-0f5b-41a4-8314-e73ce093e3ca",
   "metadata": {
    "tags": []
   },
   "outputs": [],
   "source": [
    "train_dataset = FERPlusDataset(os.path.join(train_folder_path,\"label.csv\"), train_folder_path, transform=ToTensor())\n",
    "valid_dataset = FERPlusDataset(os.path.join(valid_folder_path, \"label.csv\"), valid_folder_path, transform=ToTensor())\n",
    "test_dataset = FERPlusDataset(os.path.join(test_folder_path, \"label.csv\"), test_folder_path, transform=ToTensor())\n",
    "\n",
    "trainloader = torch.utils.data.DataLoader(train_dataset, batch_size=batch_size, shuffle=True, num_workers=0)\n",
    "validloader = torch.utils.data.DataLoader(valid_dataset, batch_size=batch_size, shuffle=True, num_workers=0)\n",
    "testloader = torch.utils.data.DataLoader(test_dataset, batch_size=batch_size, shuffle=False, num_workers=0)"
   ]
  },
  {
   "cell_type": "code",
   "execution_count": 8,
   "id": "61f39aca-410d-4b30-b389-d2cdcc8d9170",
   "metadata": {
    "tags": []
   },
   "outputs": [
    {
     "data": {
      "image/png": "[encoded data removed]",
      "text/plain": [
       "<Figure size 640x480 with 1 Axes>"
      ]
     },
     "metadata": {},
     "output_type": "display_data"
    },
    {
     "name": "stdout",
     "output_type": "stream",
     "text": [
      "0 torch.Size([6, 1, 48, 48]) torch.Size([6, 10])\n",
      "1 torch.Size([6, 1, 48, 48]) torch.Size([6, 10])\n",
      "2 torch.Size([6, 1, 48, 48]) torch.Size([6, 10])\n",
      "3 torch.Size([6, 1, 48, 48]) torch.Size([6, 10])\n",
      "{'image': tensor([[[[0.0078, 0.0000, 0.0078,  ..., 0.9882, 0.9922, 0.9922],\n",
      "          [0.0039, 0.0039, 0.0078,  ..., 0.9765, 0.9804, 0.9843],\n",
      "          [0.0000, 0.0000, 0.0039,  ..., 0.9373, 0.9725, 0.9922],\n",
      "          ...,\n",
      "          [0.3451, 0.3451, 0.3569,  ..., 0.9804, 0.9686, 0.9569],\n",
      "          [0.3647, 0.3961, 0.3608,  ..., 0.9804, 0.9725, 0.9608],\n",
      "          [0.3765, 0.3843, 0.3725,  ..., 0.9804, 0.9725, 0.9608]]],\n",
      "\n",
      "\n",
      "        [[[0.7137, 0.6824, 0.4549,  ..., 0.1922, 0.0588, 0.1333],\n",
      "          [0.7333, 0.6902, 0.4235,  ..., 0.1569, 0.0078, 0.1176],\n",
      "          [0.7569, 0.6824, 0.4706,  ..., 0.1412, 0.0196, 0.0667],\n",
      "          ...,\n",
      "          [0.5608, 0.4863, 0.6784,  ..., 0.0039, 0.0471, 0.0510],\n",
      "          [0.5569, 0.4627, 0.6000,  ..., 0.0588, 0.0745, 0.0392],\n",
      "          [0.6196, 0.4471, 0.5451,  ..., 0.0863, 0.0941, 0.0745]]],\n",
      "\n",
      "\n",
      "        [[[0.7294, 0.8510, 0.5294,  ..., 0.6235, 0.6314, 0.6275],\n",
      "          [0.7294, 0.5216, 0.2941,  ..., 0.6235, 0.6275, 0.6471],\n",
      "          [0.4667, 0.3922, 0.4275,  ..., 0.6118, 0.6275, 0.5569],\n",
      "          ...,\n",
      "          [0.6431, 0.7333, 0.3333,  ..., 0.0784, 0.5176, 0.4314],\n",
      "          [0.5804, 0.5451, 0.2863,  ..., 0.0078, 0.0275, 0.4588],\n",
      "          [0.4000, 0.4235, 0.0980,  ..., 0.0235, 0.4157, 0.7451]]],\n",
      "\n",
      "\n",
      "        [[[0.6588, 0.5373, 0.5686,  ..., 0.3843, 0.3176, 0.3216],\n",
      "          [0.5804, 0.5529, 0.6196,  ..., 0.3922, 0.3373, 0.3137],\n",
      "          [0.6392, 0.6039, 0.5961,  ..., 0.4039, 0.3569, 0.3216],\n",
      "          ...,\n",
      "          [0.9255, 0.9294, 0.9333,  ..., 0.9294, 0.9373, 0.9412],\n",
      "          [0.9294, 0.9333, 0.9294,  ..., 0.9373, 0.9412, 0.9373],\n",
      "          [0.9294, 0.9294, 0.9294,  ..., 0.9412, 0.9412, 0.9412]]],\n",
      "\n",
      "\n",
      "        [[[0.7569, 0.7765, 0.7216,  ..., 0.3922, 0.3569, 0.3255],\n",
      "          [0.7569, 0.7647, 0.6431,  ..., 0.4706, 0.3608, 0.3333],\n",
      "          [0.7529, 0.7569, 0.5176,  ..., 0.4941, 0.3882, 0.3569],\n",
      "          ...,\n",
      "          [0.1843, 0.3333, 0.4196,  ..., 0.3333, 0.3294, 0.2745],\n",
      "          [0.2078, 0.3373, 0.4157,  ..., 0.3333, 0.3255, 0.2745],\n",
      "          [0.3294, 0.3725, 0.4118,  ..., 0.3373, 0.3294, 0.2784]]],\n",
      "\n",
      "\n",
      "        [[[0.8118, 0.8353, 0.8588,  ..., 0.2627, 0.2431, 0.3216],\n",
      "          [0.8235, 0.8431, 0.8431,  ..., 0.2118, 0.4000, 0.5804],\n",
      "          [0.7569, 0.7373, 0.7098,  ..., 0.2353, 0.5529, 0.6353],\n",
      "          ...,\n",
      "          [0.6431, 0.6863, 0.6980,  ..., 0.8314, 0.8314, 0.8314],\n",
      "          [0.6667, 0.6431, 0.6667,  ..., 0.8510, 0.8471, 0.8314],\n",
      "          [0.7137, 0.6392, 0.6275,  ..., 0.8431, 0.8549, 0.8392]]]]), 'emotions': tensor([[ 0., 10.,  0.,  0.,  0.,  0.,  0.,  0.,  0.,  0.],\n",
      "        [ 3.,  0.,  0.,  3.,  2.,  0.,  0.,  0.,  2.,  0.],\n",
      "        [ 0., 10.,  0.,  0.,  0.,  0.,  0.,  0.,  0.,  0.],\n",
      "        [ 0.,  1.,  8.,  0.,  0.,  0.,  0.,  0.,  1.,  0.],\n",
      "        [ 0., 10.,  0.,  0.,  0.,  0.,  0.,  0.,  0.,  0.],\n",
      "        [ 0.,  0.,  9.,  0.,  0.,  0.,  1.,  0.,  0.,  0.]])}\n"
     ]
    }
   ],
   "source": [
    "# JUST FOR DEBUGGING \n",
    "np_img = train_dataset[3]['image']\n",
    "plt.imshow(np.transpose(np_img, (1, 2, 0)))\n",
    "plt.show()\n",
    "\n",
    "for i_batch, sample_batched in enumerate(trainloader):\n",
    "    print(i_batch, sample_batched['image'].size(),\n",
    "          sample_batched['emotions'].size())\n",
    "\n",
    "    # observe 4th batch and stop.\n",
    "    if i_batch == 3:\n",
    "        print(sample_batched)\n",
    "        break"
   ]
  },
  {
   "attachments": {},
   "cell_type": "markdown",
   "id": "5af5b92d",
   "metadata": {},
   "source": [
    "**the MODEL**"
   ]
  },
  {
   "cell_type": "code",
   "execution_count": 9,
   "id": "1536c39d-bb61-4f46-9ff2-e9c15dcfaa7f",
   "metadata": {},
   "outputs": [
    {
     "name": "stdout",
     "output_type": "stream",
     "text": [
      "Net(\n",
      "  (conv1): Conv2d(1, 6, kernel_size=(5, 5), stride=(1, 1))\n",
      "  (pool): MaxPool2d(kernel_size=2, stride=2, padding=0, dilation=1, ceil_mode=False)\n",
      "  (conv2): Conv2d(6, 16, kernel_size=(5, 5), stride=(1, 1))\n",
      "  (fc1): Linear(in_features=1296, out_features=120, bias=True)\n",
      "  (fc2): Linear(in_features=120, out_features=84, bias=True)\n",
      "  (fc3): Linear(in_features=84, out_features=10, bias=True)\n",
      ")\n"
     ]
    }
   ],
   "source": [
    "activation_func = F.relu\n",
    "# activation_func = F.sigmoid\n",
    "\n",
    "class Net(nn.Module):\n",
    "    def __init__(self):\n",
    "        super().__init__()\n",
    "        self.conv1 = nn.Conv2d(1, 6, 5) \n",
    "    # output size = 6 *44*44 values \n",
    "    # image size : n*n \n",
    "    # filter size: f*f (f is odd number)\n",
    "    # shrinked_image size : (n - f + 1)^2 \n",
    "\n",
    "        self.pool = nn.MaxPool2d(2, 2)\n",
    "    # default stride is 2 because it was not specified so defaults to kernel size which is 2\n",
    "    # output size = ((n-f+1)/2)^2 = 22*22 *6  \n",
    "        \n",
    "        self.conv2 = nn.Conv2d(6, 16, 5)\n",
    "     #output size = 18 * 18 * 16 = 5184   \n",
    "        \n",
    "        self.fc1 = nn.Linear(16 * 9 * 9, 120)\n",
    "        self.fc2 = nn.Linear(120, 84)\n",
    "        self.fc3 = nn.Linear(84, 10)\n",
    "\n",
    "    def forward(self, x):\n",
    "        x = self.pool(activation_func(self.conv1(x))) \n",
    "        # 44*44*6 , 22*22*6 \n",
    "        \n",
    "        x = self.pool(activation_func(self.conv2(x)))\n",
    "        # 18*18*16 , 9*9*16 \n",
    "        \n",
    "        x = torch.flatten(x, 1) # flatten all dimensions except batch\n",
    "        x = activation_func(self.fc1(x))\n",
    "        x = activation_func(self.fc2(x))\n",
    "        x = self.fc3(x)\n",
    "        return x\n",
    "\n",
    "\n",
    "net = Net()\n",
    "# net.to(device)\n",
    "print(net)"
   ]
  },
  {
   "cell_type": "code",
   "execution_count": 10,
   "id": "9e0ec98d",
   "metadata": {},
   "outputs": [],
   "source": [
    "# Parameters \n",
    "\n",
    "# criterion = nn.BCELoss()\n",
    "criterion = nn.MSELoss()\n",
    "# criterion = nn.CrossEntropyLoss()\n",
    "# criterion = nn.MultiLabelSoftMarginLoss()\n",
    "\n",
    "\n",
    "# optimizer = optim.SGD(net.parameters(), lr=0.0006, momentum=0.9)\n",
    "optimizer = optim.Adam(net.parameters(), lr=0.001)\n"
   ]
  },
  {
   "attachments": {},
   "cell_type": "markdown",
   "id": "13685b1a",
   "metadata": {},
   "source": [
    "**Training**"
   ]
  },
  {
   "cell_type": "code",
   "execution_count": 11,
   "id": "58e50abb",
   "metadata": {},
   "outputs": [
    {
     "name": "stdout",
     "output_type": "stream",
     "text": [
      "[1,  2000] loss: 4.064\n",
      "[1,  4000] loss: 3.227\n",
      "[2,  2000] loss: 2.789\n",
      "[2,  4000] loss: 2.653\n",
      "[3,  2000] loss: 2.404\n",
      "[3,  4000] loss: 2.381\n",
      "[4,  2000] loss: 2.192\n",
      "[4,  4000] loss: 2.190\n",
      "[5,  2000] loss: 2.002\n",
      "[5,  4000] loss: 2.067\n",
      "[6,  2000] loss: 1.872\n",
      "[6,  4000] loss: 1.945\n",
      "[7,  2000] loss: 1.766\n",
      "[7,  4000] loss: 1.852\n",
      "[8,  2000] loss: 1.669\n",
      "[8,  4000] loss: 1.712\n",
      "[9,  2000] loss: 1.610\n",
      "[9,  4000] loss: 1.606\n",
      "[10,  2000] loss: 1.480\n",
      "[10,  4000] loss: 1.561\n",
      "[11,  2000] loss: 1.392\n",
      "[11,  4000] loss: 1.497\n",
      "[12,  2000] loss: 1.342\n",
      "[12,  4000] loss: 1.411\n",
      "[13,  2000] loss: 1.302\n",
      "[13,  4000] loss: 1.347\n",
      "[14,  2000] loss: 1.225\n",
      "[14,  4000] loss: 1.303\n",
      "[15,  2000] loss: 1.211\n",
      "[15,  4000] loss: 1.231\n",
      "[16,  2000] loss: 1.138\n",
      "[16,  4000] loss: 1.213\n",
      "[17,  2000] loss: 1.107\n",
      "[17,  4000] loss: 1.181\n",
      "[18,  2000] loss: 1.081\n",
      "[18,  4000] loss: 1.133\n",
      "[19,  2000] loss: 1.051\n",
      "[19,  4000] loss: 1.094\n",
      "[20,  2000] loss: 1.010\n",
      "[20,  4000] loss: 1.064\n",
      "Execution time: 00:08:47\n",
      "Finished Training\n"
     ]
    }
   ],
   "source": [
    "st = time.time()\n",
    "\n",
    "for epoch in range(epochs):  # loop over the dataset multiple times\n",
    "\n",
    "    running_loss = 0.0\n",
    "    for i, data in enumerate(trainloader, 0):\n",
    "        # get the inputs; data is a list of [inputs, labels]\n",
    "        labels = data['emotions']\n",
    "        inputs = data['image']\n",
    "        # print(\"labels\" , labels)\n",
    "        \n",
    "        # zero the parameter gradients\n",
    "        optimizer.zero_grad()\n",
    "\n",
    "        # forward + backward + optimize\n",
    "        outputs = net(inputs)\n",
    "\n",
    "        loss = criterion(outputs, labels)\n",
    "        # print(\"loss\", loss)\n",
    "        loss.backward()\n",
    "        optimizer.step()\n",
    "\n",
    "\n",
    "        # print statistics\n",
    "        running_loss += loss.item()\n",
    "        if i % 2000 == 1999:    # print every 2000 mini-batches\n",
    "            print(f'[{epoch + 1}, {i + 1:5d}] loss: {running_loss / 2000:.3f}')\n",
    "            running_loss = 0.0\n",
    "    \n",
    "elapsed_time = time.time() - st\n",
    "print('Execution time:', time.strftime(\"%H:%M:%S\", time.gmtime(elapsed_time)))\n",
    "print('Finished Training')\n"
   ]
  },
  {
   "attachments": {},
   "cell_type": "markdown",
   "id": "cb11c07f",
   "metadata": {},
   "source": [
    "**Validation**"
   ]
  },
  {
   "cell_type": "code",
   "execution_count": 12,
   "id": "680e743a",
   "metadata": {},
   "outputs": [
    {
     "name": "stdout",
     "output_type": "stream",
     "text": [
      "Accuracy of the network on the 10000 test images: 65 %\n",
      "CPU times: user 1.56 s, sys: 759 ms, total: 2.32 s\n",
      "Wall time: 1.95 s\n"
     ]
    }
   ],
   "source": [
    "%%time\n",
    "\n",
    "correct = 0\n",
    "total = 0\n",
    "# since we're not training, we don't need to calculate the gradients for our outputs\n",
    "with torch.no_grad():\n",
    "    for data in testloader:\n",
    "        labels = data['emotions']\n",
    "\n",
    "        images = data['image']\n",
    "        # calculate outputs by running images through the network\n",
    "        outputs = net(images)\n",
    "\n",
    "        # the class with the highest energy is what we choose as prediction\n",
    "        _, labels = torch.max(labels, 1)\n",
    "#         print(\"labels after max: \", labels)\n",
    "        \n",
    "#         print (type(labels) , \" \" , labels)    \n",
    "        _, predicted = torch.max(outputs.data, 1)\n",
    "        total += labels.size(0)\n",
    "#         print(labels.size(0))\n",
    "#         print(\"prediction shape: \", predicted.shape , \"label shape: \" , labels.shape)\n",
    "        correct += (predicted == labels).sum().item()\n",
    "\n",
    "print(f'Accuracy of the network on the 10000 test images: {100 * correct // total} %')\n"
   ]
  },
  {
   "cell_type": "code",
   "execution_count": 13,
   "id": "8eb4e51f",
   "metadata": {},
   "outputs": [
    {
     "data": {
      "text/plain": [
       "'\\noptimization parameters : \\nepochs, batch size, lr (scheduler), optimizer, loss function, activation function, arch. \\n'"
      ]
     },
     "execution_count": 13,
     "metadata": {},
     "output_type": "execute_result"
    }
   ],
   "source": [
    "\"\"\"\n",
    "optimization parameters : \n",
    "epochs, batch size, lr (scheduler), optimizer, loss function, activation function, arch. \n",
    "\"\"\"\n"
   ]
  },
  {
   "cell_type": "code",
   "execution_count": null,
   "id": "9c96e9c6",
   "metadata": {},
   "outputs": [],
   "source": []
  },
  {
   "cell_type": "code",
   "execution_count": 14,
   "id": "b330bf72",
   "metadata": {},
   "outputs": [],
   "source": [
    "# import cv2 \n"
   ]
  }
 ],
 "metadata": {
  "kernelspec": {
   "display_name": "Python 3 (ipykernel)",
   "language": "python",
   "name": "python3"
  },
  "language_info": {
   "codemirror_mode": {
    "name": "ipython",
    "version": 3
   },
   "file_extension": ".py",
   "mimetype": "text/x-python",
   "name": "python",
   "nbconvert_exporter": "python",
   "pygments_lexer": "ipython3",
   "version": "3.8.16"
  }
 },
 "nbformat": 4,
 "nbformat_minor": 5
}
