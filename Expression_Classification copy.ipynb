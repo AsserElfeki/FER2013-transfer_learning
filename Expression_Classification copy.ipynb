{
 "cells": [
  {
   "cell_type": "code",
   "execution_count": 25,
   "id": "f6176ee1",
   "metadata": {},
   "outputs": [
    {
     "data": {
      "text/plain": [
       "<Figure size 640x480 with 0 Axes>"
      ]
     },
     "metadata": {},
     "output_type": "display_data"
    }
   ],
   "source": [
    "import os\n",
    "import torch\n",
    "from PIL import Image\n",
    "import pandas as pd\n",
    "from torch.utils.data import Dataset, DataLoader\n",
    "from torchvision import transforms, utils\n",
    "import numpy as np\n",
    "from skimage import io, transform\n",
    "import matplotlib.pyplot as plt\n",
    "import time\n",
    "import torch.optim as optim\n",
    "import torch.nn.functional as F\n",
    "import torch.nn as nn\n",
    "\n",
    "plt.ion() \n",
    "plt.gray()"
   ]
  },
  {
   "cell_type": "code",
   "execution_count": 26,
   "id": "d22df4ed",
   "metadata": {},
   "outputs": [
    {
     "name": "stdout",
     "output_type": "stream",
     "text": [
      "MPS found\n"
     ]
    }
   ],
   "source": [
    "# %%time\n",
    "if not torch.backends.mps.is_available():\n",
    "    if not torch.backends.mps.is_built():\n",
    "        print(\"MPS not available because the current PyTorch install was not \"\n",
    "              \"built with MPS enabled.\")\n",
    "    else:\n",
    "        print(\"MPS not available because the current MacOS version is not 12.3+ \"\n",
    "              \"and/or you do not have an MPS-enabled device on this machine.\")\n",
    "\n",
    "else:\n",
    "    print(\"MPS found\")\n",
    "    device = torch.device(\"mps\")"
   ]
  },
  {
   "attachments": {},
   "cell_type": "markdown",
   "id": "4e22647e",
   "metadata": {},
   "source": [
    "## Parameters"
   ]
  },
  {
   "cell_type": "code",
   "execution_count": 27,
   "id": "bfff8ed6",
   "metadata": {},
   "outputs": [],
   "source": [
    "# Parameters \n",
    "\n",
    "# criterion = nn.BCELoss()\n",
    "# criterion = nn.MSELoss()\n",
    "criterion = nn.CrossEntropyLoss()\n",
    "# criterion = nn.MultiLabelSoftMarginLoss()\n",
    "\n",
    "\n",
    "# optimizer = optim.SGD(net.parameters(), lr=0.0006, momentum=0.9)\n",
    "# optimizer = optim.Adam(net.parameters(), lr=0.001)\n",
    "\n",
    "epochs = 1\n",
    "batch_size = 128 #how many units in each insert in the pipeline\n",
    "\n",
    "activation_func = F.relu\n",
    "# activation_func = F.sigmoid"
   ]
  },
  {
   "attachments": {},
   "cell_type": "markdown",
   "id": "d4b6ea53",
   "metadata": {},
   "source": [
    "## MODEL "
   ]
  },
  {
   "cell_type": "code",
   "execution_count": 28,
   "id": "268c6248",
   "metadata": {},
   "outputs": [
    {
     "data": {
      "text/plain": [
       "Net(\n",
       "  (conv1): Conv2d(1, 6, kernel_size=(5, 5), stride=(1, 1))\n",
       "  (pool): MaxPool2d(kernel_size=2, stride=2, padding=0, dilation=1, ceil_mode=False)\n",
       "  (conv2): Conv2d(6, 16, kernel_size=(5, 5), stride=(1, 1))\n",
       "  (fc1): Linear(in_features=1296, out_features=120, bias=True)\n",
       "  (fc2): Linear(in_features=120, out_features=84, bias=True)\n",
       "  (fc3): Linear(in_features=84, out_features=10, bias=True)\n",
       ")"
      ]
     },
     "execution_count": 28,
     "metadata": {},
     "output_type": "execute_result"
    }
   ],
   "source": [
    "class Net(nn.Module):\n",
    "    def __init__(self):\n",
    "        super().__init__()\n",
    "        self.conv1 = nn.Conv2d(1, 6, 5) \n",
    "    # output size = 6 *44*44 values \n",
    "    # image size : n*n \n",
    "    # filter size: f*f (f is odd number)\n",
    "    # shrinked_image size : (n - f + 1)^2 \n",
    "\n",
    "        self.pool = nn.MaxPool2d(2, 2)\n",
    "    # default stride is 2 because it was not specified so defaults to kernel size which is 2\n",
    "    # output size = ((n-f+1)/2)^2 = 22*22 *6  \n",
    "        \n",
    "        self.conv2 = nn.Conv2d(6, 16, 5)\n",
    "     #output size = 18 * 18 * 16 = 5184   \n",
    "        \n",
    "        self.fc1 = nn.Linear(16 * 9 * 9, 120)\n",
    "        self.fc2 = nn.Linear(120, 84)\n",
    "        self.fc3 = nn.Linear(84, 10)\n",
    "\n",
    "    def forward(self, x):\n",
    "        x = self.pool(activation_func(self.conv1(x))) \n",
    "        # 44*44*6 , 22*22*6 \n",
    "        \n",
    "        x = self.pool(activation_func(self.conv2(x)))\n",
    "        # 18*18*16 , 9*9*16 \n",
    "        \n",
    "        x = torch.flatten(x, 1) # flatten all dimensions except batch\n",
    "        x = activation_func(self.fc1(x))\n",
    "        x = activation_func(self.fc2(x))\n",
    "        x = self.fc3(x)\n",
    "        return x\n",
    "\n",
    "\n",
    "net = Net()\n",
    "net.to(device)"
   ]
  },
  {
   "cell_type": "code",
   "execution_count": 29,
   "id": "88d61477",
   "metadata": {},
   "outputs": [],
   "source": [
    "# optimizer = optim.SGD(net.parameters(), lr=0.0006, momentum=0.9)\n",
    "optimizer = optim.Adam(net.parameters(), lr=0.001)\n",
    "\n",
    "# scheduler "
   ]
  },
  {
   "cell_type": "code",
   "execution_count": 30,
   "id": "cbe04620",
   "metadata": {},
   "outputs": [],
   "source": [
    "train_folder_path = './data/FER2013Train'\n",
    "test_folder_path = './data/FER2013Test'\n",
    "valid_folder_path = './data/FER2013Valid'"
   ]
  },
  {
   "cell_type": "code",
   "execution_count": 31,
   "id": "3d8c1799-178e-400a-b147-0638c2f2c801",
   "metadata": {
    "tags": []
   },
   "outputs": [],
   "source": [
    "class FERPlusDataset(Dataset):\n",
    "    \"\"\"FERPlus dataset.\"\"\"\n",
    "\n",
    "    def __init__(self, csv_file, root_dir, transform=None):\n",
    "        \"\"\"\n",
    "        Arguments:\n",
    "            csv_file (string): Path to the csv file with annotations.\n",
    "            root_dir (string): Directory with all the images.\n",
    "            transform (callable, optional): Optional transform to be applied\n",
    "                on a sample.\n",
    "        \"\"\"\n",
    "        self.img_frame = pd.read_csv(csv_file)\n",
    "        self.root_dir = root_dir\n",
    "        self.transform = transform\n",
    "\n",
    "    def __len__(self):\n",
    "        return len(self.img_frame)\n",
    "\n",
    "#     to access elements using the []\n",
    "    def __getitem__(self, idx):\n",
    "        if torch.is_tensor(idx):\n",
    "            idx = idx.tolist()\n",
    "\n",
    "#   to create the image name\n",
    "        img_name = os.path.join(self.root_dir, self.img_frame.iloc[idx, 0])\n",
    "\n",
    "        image = io.imread(img_name)\n",
    "        emotions = self.img_frame.iloc[idx, 2:]\n",
    "        emotions = np.asarray(emotions)\n",
    "        emotions = emotions.astype('float32')\n",
    "\n",
    "        sample = {'image': image, 'emotions': emotions} # a dictionary of an image with its label\n",
    "        if self.transform:\n",
    "            sample = self.transform(sample)\n",
    "\n",
    "        return sample #return a transformed image with label"
   ]
  },
  {
   "cell_type": "code",
   "execution_count": 32,
   "id": "82970810",
   "metadata": {},
   "outputs": [],
   "source": [
    "#     class to transform to a normalized tensor (only the image pixel value is transformed)\n",
    "class ToTensor(object):\n",
    "    \"\"\"Convert ndarrays in sample to Tensors.\"\"\"\n",
    "\n",
    "    def __call__(self, sample):\n",
    "        image, emotions = sample['image'], sample['emotions']\n",
    "        transform = transforms.ToTensor()\n",
    "\n",
    "        return {'image': transform(image),\n",
    "                'emotions': emotions}"
   ]
  },
  {
   "cell_type": "code",
   "execution_count": 33,
   "id": "794873de-0f5b-41a4-8314-e73ce093e3ca",
   "metadata": {
    "tags": []
   },
   "outputs": [],
   "source": [
    "train_dataset = FERPlusDataset(os.path.join(train_folder_path,\"label.csv\"), train_folder_path, transform=ToTensor())\n",
    "valid_dataset = FERPlusDataset(os.path.join(valid_folder_path, \"label.csv\"), valid_folder_path, transform=ToTensor())\n",
    "test_dataset = FERPlusDataset(os.path.join(test_folder_path, \"label.csv\"), test_folder_path, transform=ToTensor())\n",
    "\n",
    "trainloader = torch.utils.data.DataLoader(train_dataset, batch_size=batch_size, shuffle=True, num_workers=0)\n",
    "validloader = torch.utils.data.DataLoader(valid_dataset, batch_size=batch_size, shuffle=True, num_workers=0)\n",
    "testloader = torch.utils.data.DataLoader(test_dataset, batch_size=batch_size, shuffle=False, num_workers=0)"
   ]
  },
  {
   "cell_type": "code",
   "execution_count": 34,
   "id": "61f39aca-410d-4b30-b389-d2cdcc8d9170",
   "metadata": {
    "tags": []
   },
   "outputs": [],
   "source": [
    "# # JUST FOR DEBUGGING \n",
    "# np_img = train_dataset[7]['image']\n",
    "# plt.imshow(np.transpose(np_img, (1, 2, 0)))\n",
    "# plt.show()\n",
    "\n",
    "# for i_batch, sample_batched in enumerate(trainloader):\n",
    "    # print(i_batch, sample_batched['image'].size(),\n",
    "    #       sample_batched['emotions'].size())\n",
    "\n",
    "    # # observe 4th batch and stop.\n",
    "    # if i_batch == 3:\n",
    "    #     print(sample_batched)\n",
    "    #     break"
   ]
  },
  {
   "cell_type": "code",
   "execution_count": 35,
   "id": "31425cca",
   "metadata": {},
   "outputs": [
    {
     "name": "stdout",
     "output_type": "stream",
     "text": [
      "Epoch 1/1:\n",
      "Training Loss: 18.2123 | Training Accuracy: 10.30%\n",
      "Validation Loss: 16.9204 | Validation Accuracy: 14.65%\n",
      "-----------------------------------\n",
      "Execution time: 00:00:22\n",
      "Finished Training\n"
     ]
    },
    {
     "data": {
      "image/png": "[encoded data removed]",
      "text/plain": [
       "<Figure size 1000x500 with 2 Axes>"
      ]
     },
     "metadata": {},
     "output_type": "display_data"
    }
   ],
   "source": [
    "train_loss = []\n",
    "train_accuracy = []\n",
    "valid_loss = []\n",
    "valid_accuracy = []\n",
    "\n",
    "st = time.time()\n",
    "\n",
    "for epoch in range(epochs):\n",
    "    running_loss = 0.0\n",
    "    correct = 0\n",
    "    total = 0\n",
    "    \n",
    "    for i, data in enumerate(trainloader, 0):\n",
    "        \n",
    "        labels = data['emotions'].to(device)\n",
    "        inputs = data['image'].to(device)\n",
    "        \n",
    "        optimizer.zero_grad()\n",
    "        \n",
    "        outputs = net(inputs)\n",
    "        loss = criterion(outputs, labels)\n",
    "        loss.backward()\n",
    "        optimizer.step()\n",
    "        \n",
    "        running_loss += loss.item()\n",
    "        # print(\"label before: \", labels)\n",
    "        # print(\"predicted before: \", outputs)\n",
    "        # Calculate and store training accuracy\n",
    "        _, predicted = torch.max(outputs, 1)\n",
    "        _, labels = torch.max(labels, 1)\n",
    "        \n",
    "        # print(\"label: \", labels)\n",
    "        # print(\"predicted: \", predicted)\n",
    "        # print(\"pred size: \" , predicted.shape)\n",
    "        total += labels.size(0)\n",
    "        correct += (labels.bool() & (predicted == labels)).sum().item()\n",
    "        # print(\"1 more correct..\")\n",
    "    train_loss.append(running_loss / len(trainloader))\n",
    "    train_accuracy.append(100 * correct / total)\n",
    "    \n",
    "    # Perform validation\n",
    "    net.eval()\n",
    "    correct = 0\n",
    "    total = 0\n",
    "    running_loss = 0.0\n",
    "    \n",
    "    with torch.no_grad():\n",
    "        for data in validloader:\n",
    "            labels = data['emotions'].to(device)\n",
    "            images = data['image'].to(device)\n",
    "            \n",
    "            outputs = net(images)\n",
    "            loss = criterion(outputs, labels)\n",
    "            running_loss += loss.item()\n",
    "            \n",
    "            _, predicted = torch.max(outputs, 1)\n",
    "            _, labels = torch.max(labels, 1)\n",
    "            \n",
    "            total += labels.size(0)\n",
    "            # print(\"total: \" , total)\n",
    "            correct += (labels.bool() & (predicted == labels)).sum().item()\n",
    "    \n",
    "    net.train()\n",
    "    \n",
    "    valid_loss.append(running_loss / len(validloader))\n",
    "    valid_accuracy.append(100 * correct / total)\n",
    "    \n",
    "    # Print the training and validation loss and accuracy\n",
    "    print(f'Epoch {epoch+1}/{epochs}:')\n",
    "    print(f'Training Loss: {train_loss[-1]:.4f} | Training Accuracy: {train_accuracy[-1]:.2f}%')\n",
    "    print(f'Validation Loss: {valid_loss[-1]:.4f} | Validation Accuracy: {valid_accuracy[-1]:.2f}%')\n",
    "    print('-----------------------------------')\n",
    "\n",
    "elapsed_time = time.time() - st\n",
    "print('Execution time:', time.strftime(\"%H:%M:%S\", time.gmtime(elapsed_time)))\n",
    "print('Finished Training')\n",
    "\n",
    "# Plotting the loss and accuracy\n",
    "plt.figure(figsize=(10, 5))\n",
    "\n",
    "# Training and validation loss\n",
    "plt.subplot(1, 2, 1)\n",
    "plt.plot(range(1, epochs+1), train_loss, label='Training')\n",
    "plt.plot(range(1, epochs+1), valid_loss, label='Validation')\n",
    "plt.title('Loss')\n",
    "plt.xlabel('Epoch')\n",
    "plt.ylabel('Loss')\n",
    "plt.legend()\n",
    "\n",
    "# Training and validation accuracy\n",
    "plt.subplot(1, 2, 2)\n",
    "plt.plot(range(1, epochs+1), train_accuracy, label='Training')\n",
    "plt.plot(range(1, epochs+1), valid_accuracy, label='Validation')\n",
    "plt.title('Accuracy')\n",
    "plt.xlabel('Epoch')\n",
    "plt.ylabel('Accuracy')\n",
    "plt.legend()\n",
    "\n",
    "plt.tight_layout()\n",
    "plt.show()"
   ]
  },
  {
   "cell_type": "code",
   "execution_count": 36,
   "id": "58e50abb",
   "metadata": {},
   "outputs": [],
   "source": [
    "# st = time.time()\n",
    "\n",
    "# for epoch in range(epochs):  # loop over the dataset multiple times\n",
    "\n",
    "#     running_loss = 0.0\n",
    "#     for i, data in enumerate(trainloader, 0):\n",
    "#         # get the inputs; data is a list of [inputs, labels]\n",
    "#         labels = data['emotions']\n",
    "#         inputs = data['image']\n",
    "#         # print(\"labels\" , labels)\n",
    "#         # print(\"inputs\" , inputs)\n",
    "        \n",
    "#         # zero the parameter gradients\n",
    "#         optimizer.zero_grad()\n",
    "\n",
    "#         # forward + backward + optimize\n",
    "#         outputs = net(inputs)\n",
    "#         # print(\"outputs\" , outputs.shape)\n",
    "#         loss = criterion(outputs, labels)\n",
    "#         # print(\"loss\", loss)\n",
    "#         loss.backward()\n",
    "#         optimizer.step()\n",
    "\n",
    "\n",
    "#         # print statistics\n",
    "#         running_loss += loss.item()\n",
    "#         if i % 2000 == 1999:    # print every 2000 mini-batches\n",
    "#             print(f'[{epoch + 1}, {i + 1:5d}] loss: {running_loss / 2000:.3f}')\n",
    "#             running_loss = 0.0\n",
    "    \n",
    "# elapsed_time = time.time() - st\n",
    "# print('Execution time:', time.strftime(\"%H:%M:%S\", time.gmtime(elapsed_time)))\n",
    "# print('Finished Training')\n"
   ]
  },
  {
   "cell_type": "code",
   "execution_count": 37,
   "id": "680e743a",
   "metadata": {},
   "outputs": [],
   "source": [
    "# %%time\n",
    "\n",
    "# correct = 0\n",
    "# total = 0\n",
    "# i = 0\n",
    "# # since we're not training, we don't need to calculate the gradients for our outputs\n",
    "# with torch.no_grad():\n",
    "        \n",
    "#     for data in testloader: \n",
    "#         i+= 1   \n",
    "#         if i == 5:\n",
    "#                 print(\"data: \" , data['emotions'])    \n",
    "#                 print(\"data: \" , data['image'])\n",
    "        \n",
    "#         labels = data['emotions']\n",
    "#         images = data['image']\n",
    "#         # print labels and images \n",
    "        \n",
    "        \n",
    "#         # calculate outputs by running images through the network\n",
    "#         outputs = net(images)\n",
    "\n",
    "#         # the class with the highest energy is what we choose as prediction\n",
    "#         _, labels = torch.max(labels, 1)\n",
    "#         # print(\"labels size: \", labels.shape)\n",
    "        \n",
    "# #         print(\"labels after max: \", labels)\n",
    "        \n",
    "# #         print (type(labels) , \" \" , labels)    \n",
    "#         _, predicted = torch.max(outputs, 1)\n",
    "#         # print(\"pred size: \", predicted.shape)\n",
    "#         total += labels.size(0)\n",
    "# #         print(labels.size(0))\n",
    "# #         print(\"prediction shape: \", predicted.shape , \"label shape: \" , labels.shape)\n",
    "#         correct += (labels.bool() & (predicted == labels)).sum().item()\n",
    "\n",
    "# print(f'Accuracy of the network on the 10000 test images: {100 * correct // total} %')\n"
   ]
  },
  {
   "cell_type": "code",
   "execution_count": 38,
   "id": "8eb4e51f",
   "metadata": {},
   "outputs": [
    {
     "data": {
      "text/plain": [
       "'\\noptimization parameters : \\nepochs, batch size, lr (scheduler), optimizer, loss function, activation function, arch. \\n'"
      ]
     },
     "execution_count": 38,
     "metadata": {},
     "output_type": "execute_result"
    }
   ],
   "source": [
    "\"\"\"\n",
    "optimization parameters : \n",
    "epochs, batch size, lr (scheduler), optimizer, loss function, activation function, arch. \n",
    "\"\"\"\n"
   ]
  }
 ],
 "metadata": {
  "kernelspec": {
   "display_name": "Python 3 (ipykernel)",
   "language": "python",
   "name": "python3"
  },
  "language_info": {
   "codemirror_mode": {
    "name": "ipython",
    "version": 3
   },
   "file_extension": ".py",
   "mimetype": "text/x-python",
   "name": "python",
   "nbconvert_exporter": "python",
   "pygments_lexer": "ipython3",
   "version": "3.8.16"
  }
 },
 "nbformat": 4,
 "nbformat_minor": 5
}
